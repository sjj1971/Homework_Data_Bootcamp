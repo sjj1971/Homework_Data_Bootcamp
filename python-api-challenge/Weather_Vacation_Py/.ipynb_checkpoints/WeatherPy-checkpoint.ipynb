{
 "cells": [
  {
   "cell_type": "code",
   "execution_count": 1,
   "metadata": {},
   "outputs": [],
   "source": [
    "import pandas as pd\n",
    "import matplotlib.pyplot as plt\n",
    "import numpy as np\n",
    "import scipy.stats as st\n",
    "import requests\n",
    "import json\n",
    "from citipy import citipy\n",
    "from config import api_key\n",
    "\n",
    "url = \"http://api.openweathermap.org/data/2.5/weather?\""
   ]
  },
  {
   "cell_type": "code",
   "execution_count": 10,
   "metadata": {},
   "outputs": [
    {
     "name": "stdout",
     "output_type": "stream",
     "text": [
      "nehoiu\n",
      "inverell\n",
      "rikitea\n",
      "baruun-urt\n",
      "bredasdorp\n",
      "asfi\n",
      "wanaka\n",
      "waingapu\n",
      "puerto ayora\n",
      "atuona\n",
      "yara\n"
     ]
    }
   ],
   "source": [
    "# Random City selection of 500+ cities using citypy (not repeated)\n",
    "city_set = []\n",
    "while len(city_set) <=10:\n",
    "    r_lat = round(np.random.random()*90,2)*(np.random.randint(0,2)*2 - 1)\n",
    "    r_lon = round(np.random.random()*180,2)*(np.random.randint(0,2)*2 - 1)\n",
    "    city = citipy.nearest_city(r_lat, r_lon)\n",
    "    if not([city.city_name, city.country_code] in city_set):\n",
    "        city_set.append([city.city_name, city.country_code])\n",
    "    print(city.city_name)\n",
    "\n",
    "# print(f\"city_set have {len(city_set)} of unique cities in list\")\n"
   ]
  },
  {
   "cell_type": "code",
   "execution_count": 11,
   "metadata": {},
   "outputs": [],
   "source": [
    "city_weather_set = []\n",
    "for city in city_set:\n",
    "    query_url = f\"{url}appid={api_key}&q={city[0]}\"\n",
    "    data = requests.get(query_url)\n",
    "    data_json = data.json()\n",
    "    city_weather_set.append(data_json)"
   ]
  },
  {
   "cell_type": "code",
   "execution_count": 12,
   "metadata": {},
   "outputs": [
    {
     "data": {
      "text/plain": [
       "list"
      ]
     },
     "execution_count": 12,
     "metadata": {},
     "output_type": "execute_result"
    }
   ],
   "source": [
    "type(city_weather_set)"
   ]
  },
  {
   "cell_type": "code",
   "execution_count": 13,
   "metadata": {},
   "outputs": [
    {
     "data": {
      "text/plain": [
       "dict_keys(['coord', 'weather', 'base', 'main', 'visibility', 'wind', 'clouds', 'dt', 'sys', 'timezone', 'id', 'name', 'cod'])"
      ]
     },
     "execution_count": 13,
     "metadata": {},
     "output_type": "execute_result"
    }
   ],
   "source": [
    "city_weather_set[0].keys()"
   ]
  },
  {
   "cell_type": "code",
   "execution_count": 14,
   "metadata": {},
   "outputs": [
    {
     "data": {
      "text/plain": [
       "{'coord': {'lon': 26.3, 'lat': 45.42},\n",
       " 'weather': [{'id': 803,\n",
       "   'main': 'Clouds',\n",
       "   'description': 'broken clouds',\n",
       "   'icon': '04d'}],\n",
       " 'base': 'stations',\n",
       " 'main': {'temp': 285.42,\n",
       "  'feels_like': 277.41,\n",
       "  'temp_min': 284.26,\n",
       "  'temp_max': 287.15,\n",
       "  'pressure': 1024,\n",
       "  'humidity': 22},\n",
       " 'visibility': 10000,\n",
       " 'wind': {'speed': 7.2, 'deg': 50},\n",
       " 'clouds': {'all': 75},\n",
       " 'dt': 1586593334,\n",
       " 'sys': {'type': 1,\n",
       "  'id': 9687,\n",
       "  'country': 'RO',\n",
       "  'sunrise': 1586576158,\n",
       "  'sunset': 1586624107},\n",
       " 'timezone': 10800,\n",
       " 'id': 672331,\n",
       " 'name': 'Nehoiu',\n",
       " 'cod': 200}"
      ]
     },
     "execution_count": 14,
     "metadata": {},
     "output_type": "execute_result"
    }
   ],
   "source": [
    "city_weather_set[0]"
   ]
  },
  {
   "cell_type": "code",
   "execution_count": null,
   "metadata": {},
   "outputs": [],
   "source": []
  }
 ],
 "metadata": {
  "kernelspec": {
   "display_name": "Python 3",
   "language": "python",
   "name": "python3"
  },
  "language_info": {
   "codemirror_mode": {
    "name": "ipython",
    "version": 3
   },
   "file_extension": ".py",
   "mimetype": "text/x-python",
   "name": "python",
   "nbconvert_exporter": "python",
   "pygments_lexer": "ipython3",
   "version": "3.7.6"
  }
 },
 "nbformat": 4,
 "nbformat_minor": 4
}
